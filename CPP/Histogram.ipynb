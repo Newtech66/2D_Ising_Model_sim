{
 "cells": [
  {
   "cell_type": "code",
   "execution_count": 12,
   "id": "fabe4661",
   "metadata": {},
   "outputs": [],
   "source": [
    "import numpy as np\n",
    "\n",
    "import matplotlib.pyplot as plt"
   ]
  },
  {
   "cell_type": "code",
   "execution_count": 66,
   "id": "a593bdde",
   "metadata": {},
   "outputs": [
    {
     "name": "stdout",
     "output_type": "stream",
     "text": [
      "['arr_0', 'arr_1', 'arr_2', 'arr_3', 'arr_4', 'arr_5', 'arr_6', 'arr_7', 'arr_8', 'arr_9', 'arr_10', 'arr_11', 'arr_12', 'arr_13', 'arr_14', 'arr_15', 'arr_16', 'arr_17', 'arr_18', 'arr_19', 'arr_20', 'arr_21', 'arr_22', 'arr_23', 'arr_24', 'arr_25', 'arr_26', 'arr_27', 'arr_28', 'arr_29', 'arr_30', 'arr_31', 'arr_32', 'arr_33', 'arr_34', 'arr_35', 'arr_36', 'arr_37', 'arr_38', 'arr_39']\n"
     ]
    }
   ],
   "source": [
    "temps = np.load(filename)\n",
    "print(temps.files)\n"
   ]
  },
  {
   "cell_type": "code",
   "execution_count": 107,
   "id": "af7fcf8a",
   "metadata": {},
   "outputs": [
    {
     "name": "stdout",
     "output_type": "stream",
     "text": [
      "1600000\n"
     ]
    }
   ],
   "source": [
    "temp = temps['arr_20']  #1.9 0r 2.1 K temp \n",
    "\n",
    "print(temp.size)"
   ]
  },
  {
   "cell_type": "code",
   "execution_count": 68,
   "id": "7674a74b",
   "metadata": {},
   "outputs": [],
   "source": [
    "# file containd 40 temp\n",
    "# each temp cont 1000 snapshts"
   ]
  },
  {
   "cell_type": "code",
   "execution_count": 69,
   "id": "78fd492d",
   "metadata": {},
   "outputs": [
    {
     "name": "stdout",
     "output_type": "stream",
     "text": [
      "(40, 40)\n"
     ]
    }
   ],
   "source": [
    "tx= np.array(temp)\n",
    "print(tx[0].shape) #first snapshot of the 3.9k temp\n"
   ]
  },
  {
   "cell_type": "code",
   "execution_count": null,
   "id": "47c2c703",
   "metadata": {},
   "outputs": [],
   "source": []
  },
  {
   "cell_type": "code",
   "execution_count": null,
   "id": "8cf740c0",
   "metadata": {},
   "outputs": [],
   "source": []
  },
  {
   "cell_type": "code",
   "execution_count": null,
   "id": "3d75f40d",
   "metadata": {},
   "outputs": [],
   "source": []
  },
  {
   "cell_type": "code",
   "execution_count": null,
   "id": "18ecc93b",
   "metadata": {},
   "outputs": [],
   "source": []
  },
  {
   "cell_type": "code",
   "execution_count": null,
   "id": "49359888",
   "metadata": {},
   "outputs": [],
   "source": []
  },
  {
   "cell_type": "code",
   "execution_count": null,
   "id": "69d42bdd",
   "metadata": {},
   "outputs": [],
   "source": []
  },
  {
   "cell_type": "code",
   "execution_count": 70,
   "id": "c5d20723",
   "metadata": {},
   "outputs": [],
   "source": [
    "def mag(sn_sht,N):\n",
    "    s=0      \n",
    "    for i in range(N):\n",
    "        for j in range(N):\n",
    "             s += sn_sht[i][j]\n",
    "    return s/(N*N) \n",
    "\n",
    "def red(tt):\n",
    "    r_config = np.zeros(40)\n",
    "    for i in range (40):\n",
    "        r_config[k]+=tt[i][k]\n",
    "    r_config[k]= r_config[k] /40\n",
    "    return r_config[k]   "
   ]
  },
  {
   "cell_type": "code",
   "execution_count": 71,
   "id": "6e3c16a3",
   "metadata": {},
   "outputs": [
    {
     "name": "stdout",
     "output_type": "stream",
     "text": [
      "[-0.085   -0.02     0.06625 ...  0.       0.       0.     ]\n"
     ]
    }
   ],
   "source": [
    "filename=\"data_40.npz\"\n",
    "N = 40\n",
    "snapshot_count = 1000\n",
    "T_count = 40\n",
    "\n",
    "spont_mag=np.zeros(1600000)\n",
    "\n",
    "for s in range(1000):\n",
    "     spont_mag[s] =  mag(tx[s],40)\n",
    "\n",
    "print(spont_mag)\n",
    "    \n",
    " "
   ]
  },
  {
   "cell_type": "code",
   "execution_count": 106,
   "id": "584c4472",
   "metadata": {
    "scrolled": true
   },
   "outputs": [
    {
     "data": {
      "image/png": "[encoded data removed]",
      "text/plain": [
       "<Figure size 640x480 with 1 Axes>"
      ]
     },
     "metadata": {},
     "output_type": "display_data"
    }
   ],
   "source": [
    "plt.hist(spont_mag, bins=170)\n",
    "#plt.style.use('ggplot')\n",
    "plt.ylim([-1, 40])\n",
    "plt.show()"
   ]
  },
  {
   "cell_type": "code",
   "execution_count": null,
   "id": "2509948b",
   "metadata": {},
   "outputs": [],
   "source": []
  },
  {
   "cell_type": "code",
   "execution_count": null,
   "id": "68380f0b",
   "metadata": {},
   "outputs": [],
   "source": []
  },
  {
   "cell_type": "code",
   "execution_count": null,
   "id": "ec09b19d",
   "metadata": {},
   "outputs": [],
   "source": []
  },
  {
   "cell_type": "code",
   "execution_count": 73,
   "id": "671a059d",
   "metadata": {},
   "outputs": [],
   "source": [
    "sp=list(spont_mag)\n",
    "hist=[[x,sp.count(x)] for x in set(sp)]\n",
    "      "
   ]
  },
  {
   "cell_type": "code",
   "execution_count": 74,
   "id": "ce14c11b",
   "metadata": {},
   "outputs": [
    {
     "name": "stdout",
     "output_type": "stream",
     "text": [
      "[[0.09375, 2], [-0.0625, 7], [0.0, 1599007], [0.125, 2], [-0.09375, 3], [-0.03125, 9], [0.03125, 8], [0.0625, 2], [0.0525, 4], [-0.04125, 7], [-0.01, 8], [0.02125, 6], [-0.10375, 4], [0.07375, 3], [-0.0725, 4], [-0.0825, 3], [-0.02, 15], [0.01125, 9], [0.0425, 7], [-0.05125, 6], [0.00125, 7], [-0.0925, 4], [-0.06125, 7], [-0.03, 9], [0.0325, 7], [0.095, 1], [0.12625, 1], [0.06375, 4], [-0.00875, 17], [0.0225, 10], [-0.04, 10], [0.05375, 4], [0.075, 4], [-0.07125, 3], [0.04375, 9], [-0.05, 7], [0.085, 1], [-0.08125, 3], [0.10625, 2], [0.0125, 10], [-0.01875, 12], [-0.02875, 9], [0.0025, 13], [0.09625, 3], [-0.06, 4], [0.1175, 1], [-0.07, 5], [0.065, 8], [-0.15375, 1], [0.03375, 7], [0.16875, 1], [-0.16375, 1], [-0.09125, 2], [0.02375, 12], [-0.03875, 7], [0.055, 6], [-0.0075, 11], [-0.04875, 4], [0.1075, 1], [0.045, 8], [-0.0175, 8], [0.01375, 11], [-0.08, 6], [0.07625, 3], [-0.0275, 14], [0.00375, 14], [0.06625, 7], [-0.06875, 5], [0.035, 10], [-0.05875, 3], [-0.09, 1], [-0.12125, 2], [-0.1, 2], [-0.13125, 1], [0.11875, 1], [0.13875, 1], [-0.00625, 10], [0.025, 8], [-0.0375, 7], [0.05625, 3], [-0.1275, 2], [-0.0475, 8], [-0.07875, 3], [0.10875, 1], [0.04625, 12], [0.015, 11], [-0.01625, 10], [0.0775, 1], [0.03625, 7], [-0.0575, 4], [0.005, 6], [-0.02625, 10], [0.09875, 4], [-0.12, 2], [-0.09875, 2], [-0.0675, 5], [-0.08875, 2], [0.08875, 1], [0.13, 1], [0.0675, 1], [0.02625, 7], [0.12, 2], [-0.005, 7], [-0.03625, 9], [0.0575, 6], [0.01625, 11], [-0.04625, 3], [0.0475, 10], [-0.015, 3], [-0.0775, 1], [0.0375, 7], [-0.025, 3], [-0.05625, 1], [0.00625, 12], [0.06875, 1], [0.05875, 5], [-0.0875, 4], [-0.035, 11], [-0.06625, 4], [0.1425, 1], [0.1, 2], [0.12125, 1], [-0.00375, 11], [0.0275, 12], [0.09, 1], [-0.01375, 5], [0.0175, 16], [0.11125, 2], [-0.07625, 1], [-0.045, 5], [0.04875, 1], [0.08, 1], [-0.1175, 2], [0.0075, 9], [-0.02375, 6], [0.03875, 3], [-0.055, 7], [-0.03375, 6], [-0.065, 3], [0.09125, 2], [0.07, 4], [0.06, 4], [-0.0025, 9], [-0.09625, 1], [0.10125, 1], [0.02875, 8], [-0.08625, 1], [0.01875, 6], [-0.0125, 12], [-0.085, 3], [0.05, 8], [-0.075, 2], [-0.04375, 8], [0.1025, 4], [0.08125, 2], [-0.11625, 1], [0.1125, 1], [0.07125, 3], [-0.10625, 1], [0.04, 10], [0.00875, 15], [-0.0225, 9], [-0.05375, 3], [0.06125, 6], [-0.06375, 5], [-0.12625, 1], [-0.00125, 11], [0.03, 7], [0.0925, 2], [-0.0325, 2], [0.12375, 1], [-0.0425, 7], [0.05125, 7], [0.02, 11], [-0.01125, 6], [-0.08375, 3], [0.0725, 3], [0.0825, 5], [0.10375, 2], [-0.07375, 3], [0.11375, 1], [-0.02125, 11], [0.01, 13], [-0.0525, 7], [0.04125, 4]]\n"
     ]
    }
   ],
   "source": [
    "print(hist)"
   ]
  },
  {
   "cell_type": "code",
   "execution_count": null,
   "id": "48bb2f9d",
   "metadata": {},
   "outputs": [],
   "source": []
  },
  {
   "cell_type": "code",
   "execution_count": 101,
   "id": "0dab3f74",
   "metadata": {},
   "outputs": [],
   "source": [
    "#print(np.array(hist))\n",
    "Hist=np.array(hist)\n"
   ]
  },
  {
   "cell_type": "code",
   "execution_count": 102,
   "id": "ce03cbed",
   "metadata": {},
   "outputs": [],
   "source": [
    "#print(np.array(hist).transpose())\n",
    "Hist=np.array(hist).transpose()"
   ]
  },
  {
   "cell_type": "code",
   "execution_count": 93,
   "id": "34380182",
   "metadata": {},
   "outputs": [
    {
     "name": "stdout",
     "output_type": "stream",
     "text": [
      "1599007.0\n",
      "2\n",
      "1599007.0\n"
     ]
    }
   ],
   "source": [
    "print(max(Hist[1]))\n",
    "print(np.argmax(Hist[1]))\n",
    "print(Hist[1][2])\n",
    "\n",
    "\n",
    "x= np.delete(Hist[0], 2)\n",
    "y= np.delete(Hist[1], 2)"
   ]
  },
  {
   "cell_type": "code",
   "execution_count": 94,
   "id": "844453d1",
   "metadata": {},
   "outputs": [
    {
     "data": {
      "text/plain": [
       "<matplotlib.collections.PathCollection at 0x1c353619c60>"
      ]
     },
     "execution_count": 94,
     "metadata": {},
     "output_type": "execute_result"
    },
    {
     "data": {
      "image/png": "[encoded data removed]",
      "text/plain": [
       "<Figure size 640x480 with 1 Axes>"
      ]
     },
     "metadata": {},
     "output_type": "display_data"
    }
   ],
   "source": [
    "plt.scatter(x,y,c='red',label='16 (1000 snaps, old method)')\n",
    "#plt.ylim([-1, 20])"
   ]
  },
  {
   "cell_type": "code",
   "execution_count": 96,
   "id": "b6d14ff8",
   "metadata": {},
   "outputs": [
    {
     "name": "stdout",
     "output_type": "stream",
     "text": [
      "184\n"
     ]
    }
   ],
   "source": [
    "print(x.size)"
   ]
  }
 ],
 "metadata": {
  "kernelspec": {
   "display_name": "Python 3 (ipykernel)",
   "language": "python",
   "name": "python3"
  },
  "language_info": {
   "codemirror_mode": {
    "name": "ipython",
    "version": 3
   },
   "file_extension": ".py",
   "mimetype": "text/x-python",
   "name": "python",
   "nbconvert_exporter": "python",
   "pygments_lexer": "ipython3",
   "version": "3.10.9"
  }
 },
 "nbformat": 4,
 "nbformat_minor": 5
}
