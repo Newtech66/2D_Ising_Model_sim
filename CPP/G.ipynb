{
 "cells": [
  {
   "cell_type": "code",
   "execution_count": 92,
   "id": "e1e44270",
   "metadata": {},
   "outputs": [],
   "source": [
    "import numpy as np\n",
    "\n",
    "import matplotlib.pyplot as plt\n"
   ]
  },
  {
   "cell_type": "code",
   "execution_count": 94,
   "id": "d473e292",
   "metadata": {},
   "outputs": [],
   "source": [
    "snapshot = np.load(\"data_40.npz\")\n",
    "f = snapshot.files"
   ]
  },
  {
   "cell_type": "code",
   "execution_count": 95,
   "id": "845e6755",
   "metadata": {},
   "outputs": [
    {
     "name": "stdout",
     "output_type": "stream",
     "text": [
      "[[ 1  1  1 ... -1  1  1]\n",
      " [-1  1  1 ... -1  1  1]\n",
      " [ 1 -1  1 ... -1 -1  1]\n",
      " ...\n",
      " [-1  1  1 ... -1  1  1]\n",
      " [ 1  1  1 ...  1  1  1]\n",
      " [ 1 -1 -1 ...  1  1  1]]\n"
     ]
    },
    {
     "data": {
      "text/plain": [
       "1600"
      ]
     },
     "execution_count": 95,
     "metadata": {},
     "output_type": "execute_result"
    }
   ],
   "source": [
    "    sp =snapshot['arr_39']\n",
    "    print(sp[39])\n",
    "    ssp = np.array(sp)\n",
    "    ssp[39].size"
   ]
  },
  {
   "cell_type": "code",
   "execution_count": 97,
   "id": "5d423a75",
   "metadata": {},
   "outputs": [
    {
     "name": "stdout",
     "output_type": "stream",
     "text": [
      "[[[-1  1 -1 ... -1 -1 -1]\n",
      "  [-1 -1 -1 ...  1 -1 -1]\n",
      "  [ 1 -1 -1 ...  1 -1  1]\n",
      "  ...\n",
      "  [-1 -1  1 ... -1 -1  1]\n",
      "  [ 1 -1 -1 ...  1  1 -1]\n",
      "  [ 1 -1  1 ... -1 -1 -1]]\n",
      "\n",
      " [[-1 -1 -1 ... -1  1  1]\n",
      "  [ 1  1 -1 ...  1  1 -1]\n",
      "  [ 1  1 -1 ...  1  1 -1]\n",
      "  ...\n",
      "  [ 1 -1  1 ...  1  1  1]\n",
      "  [-1 -1 -1 ...  1 -1  1]\n",
      "  [-1 -1  1 ...  1  1  1]]\n",
      "\n",
      " [[-1  1  1 ... -1 -1  1]\n",
      "  [-1  1 -1 ... -1 -1  1]\n",
      "  [-1 -1 -1 ...  1 -1 -1]\n",
      "  ...\n",
      "  [ 1  1  1 ...  1  1  1]\n",
      "  [ 1  1  1 ... -1  1  1]\n",
      "  [ 1  1  1 ...  1 -1  1]]\n",
      "\n",
      " ...\n",
      "\n",
      " [[-1  1 -1 ...  1  1 -1]\n",
      "  [-1  1 -1 ...  1 -1  1]\n",
      "  [ 1  1 -1 ... -1 -1 -1]\n",
      "  ...\n",
      "  [-1 -1  1 ... -1 -1  1]\n",
      "  [ 1 -1 -1 ... -1 -1 -1]\n",
      "  [-1 -1  1 ... -1 -1 -1]]\n",
      "\n",
      " [[ 1  1  1 ...  1  1  1]\n",
      "  [-1 -1  1 ... -1  1 -1]\n",
      "  [-1 -1 -1 ...  1  1  1]\n",
      "  ...\n",
      "  [ 1  1 -1 ... -1 -1  1]\n",
      "  [ 1  1 -1 ... -1 -1  1]\n",
      "  [-1  1 -1 ...  1 -1 -1]]\n",
      "\n",
      " [[-1  1  1 ... -1  1  1]\n",
      "  [ 1 -1  1 ...  1  1 -1]\n",
      "  [-1 -1 -1 ... -1 -1  1]\n",
      "  ...\n",
      "  [ 1  1 -1 ...  1 -1 -1]\n",
      "  [ 1  1  1 ...  1 -1 -1]\n",
      "  [ 1  1  1 ...  1  1  1]]]\n"
     ]
    }
   ],
   "source": [
    "    filename=\"data_40.npz\"\n",
    "    N = 40\n",
    "    snapshot_count = 1000\n",
    "    T_count = 40\n",
    "    def ms(sn,i,j):\n",
    "      s=0\n",
    "      for t in range(1000): \n",
    "        s += sn[t][i][j]\n",
    "      return s/1000  \n",
    "    def red(tt):\n",
    "     r_config = np.zeros(40)\n",
    "     for i in range (40):\n",
    "         r_config[k]+=tt[i][k]\n",
    "     r_config[k]= r_config[k] /40\n",
    "     return r_config[k]    \n",
    "\n",
    "\n",
    "\n",
    "    temps = np.load(filename)\n",
    "    \n",
    "    c=0\n",
    "   \n",
    "    temp = temps['arr_39']\n",
    "        \n",
    "        \n",
    "          \n",
    "        \n",
    "    print(temp)\n",
    "            \n",
    "       "
   ]
  },
  {
   "cell_type": "code",
   "execution_count": 98,
   "id": "eb935171",
   "metadata": {},
   "outputs": [],
   "source": [
    "    filename=\"data_40.npz\"\n",
    "    N = 40\n",
    "    snapshot_count = 1000\n",
    "    T_count = 40\n",
    "    def ms(sn,t,j):\n",
    "      s=0\n",
    "      for t in range(1000): \n",
    "        s += sn[t][j]\n",
    "      return s/1000 \n",
    "\n",
    "    def red(tt):\n",
    "     r_config = np.zeros(40)\n",
    "     for i in range (40):\n",
    "         r_config[k]+=tt[i][k]\n",
    "     r_config[k]= r_config[k] /40\n",
    "     return r_config[k]    \n",
    "\n",
    "\n",
    "\n",
    "    temps = np.load(filename)\n",
    "    \n",
    "    c=0\n",
    "   \n",
    "    temp = temps['arr_39']\n",
    "    tx= np.array(temp)\n",
    "        \n",
    "    snap_count = 0\n",
    "        \n",
    "    G=[]*1600\n",
    "    msx=np.zeros(1600000)\n",
    "    s=0\n",
    "    txs=np.zeros(1600000)\n",
    "    txs =txs.reshape(1000,1600)\n",
    "    msx =msx.reshape(1000,1600)\n",
    "    txt =tx.reshape(1000,1600)\n",
    "    for s in range(1000):\n",
    "        for j in range(1600):\n",
    "            msx[s][j] =  ms(txt,s,j)\n",
    "\n",
    "    for s in range(1000):\n",
    "        for j in range(1600):\n",
    "            txs[s][j]=(txt[s][j]-msx[s][j])\n",
    "\n",
    "       \n",
    "        \n",
    "      \n",
    "         \n",
    "            \n",
    "   \n",
    "            "
   ]
  },
  {
   "cell_type": "code",
   "execution_count": 99,
   "metadata": {},
   "outputs": [
    {
     "name": "stdout",
     "output_type": "stream",
     "text": [
      "[[-1.014  1.008 -1.002 ... -1.03  -1.004 -1.02 ]\n",
      " [-1.014 -0.992 -1.002 ...  0.97   0.996  0.98 ]\n",
      " [-1.014  1.008  0.998 ...  0.97  -1.004  0.98 ]\n",
      " ...\n",
      " [-1.014  1.008 -1.002 ... -1.03  -1.004 -1.02 ]\n",
      " [ 0.986  1.008  0.998 ...  0.97  -1.004 -1.02 ]\n",
      " [-1.014  1.008  0.998 ...  0.97   0.996  0.98 ]]\n"
     ]
    }
   ],
   "source": [
    "print(txs)"
   ]
  },
  {
   "cell_type": "code",
   "execution_count": 103,
   "metadata": {},
   "outputs": [
    {
     "name": "stdout",
     "output_type": "stream",
     "text": [
      "[0.00098218 0.00097768 0.00013745 ... 0.00035683 0.00045241 0.00249205]\n"
     ]
    }
   ],
   "source": [
    "g=np.zeros(1600000)\n",
    "g = g.reshape(1000,1600)\n",
    "\n",
    "G=np.zeros(1600)\n",
    "\n",
    "\n",
    "for s in range(1000):\n",
    "    for j in range(1600):\n",
    "        x=0.00\n",
    "        for k in range(1600):\n",
    "            x  += (txs[s][j])*(txs[s][k])\n",
    "        g[s][j]=x/1600\n",
    "\n",
    "for j in range(1600):\n",
    "    G[j]=ms(g,1000,j) \n",
    "\n",
    "print(G)"
   ]
  },
  {
   "cell_type": "code",
   "execution_count": 116,
   "metadata": {},
   "outputs": [
    {
     "name": "stderr",
     "output_type": "stream",
     "text": [
      "C:\\Users\\EDWIN\\AppData\\Local\\Temp\\ipykernel_8016\\4054128352.py:2: RuntimeWarning: invalid value encountered in log\n",
      "  c=(np.log(G))\n"
     ]
    },
    {
     "data": {
      "text/plain": [
       "[<matplotlib.lines.Line2D at 0x14f752e3520>]"
      ]
     },
     "execution_count": 116,
     "metadata": {},
     "output_type": "execute_result"
    },
    {
     "data": {
      "image/png": "[encoded data removed]",
      "text/plain": [
       "<Figure size 640x480 with 1 Axes>"
      ]
     },
     "metadata": {},
     "output_type": "display_data"
    }
   ],
   "source": [
    "G=np.array(G)\n",
    "c=(np.log(G))\n",
    "c=(np.log(abs(c)))\n",
    "plt.plot(range(1600),c)"
   ]
  }
 ],
 "metadata": {
  "kernelspec": {
   "display_name": "Python 3 (ipykernel)",
   "language": "python",
   "name": "python3"
  },
  "language_info": {
   "codemirror_mode": {
    "name": "ipython",
    "version": 3
   },
   "file_extension": ".py",
   "mimetype": "text/x-python",
   "name": "python",
   "nbconvert_exporter": "python",
   "pygments_lexer": "ipython3",
   "version": "3.10.9"
  }
 },
 "nbformat": 4,
 "nbformat_minor": 5
}
